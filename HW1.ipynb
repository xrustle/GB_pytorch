{
  "nbformat": 4,
  "nbformat_minor": 0,
  "metadata": {
    "kernelspec": {
      "display_name": "Python 3",
      "language": "python",
      "name": "python3"
    },
    "language_info": {
      "codemirror_mode": {
        "name": "ipython",
        "version": 3
      },
      "file_extension": ".py",
      "mimetype": "text/x-python",
      "name": "python",
      "nbconvert_exporter": "python",
      "pygments_lexer": "ipython3",
      "version": "3.7.4"
    },
    "colab": {
      "name": "PyTorch_Intro.ipynb",
      "provenance": []
    },
    "accelerator": "GPU"
  },
  "cells": [
    {
      "cell_type": "markdown",
      "metadata": {
        "id": "4B-HWpkCdteP"
      },
      "source": [
        "# Практическое задание к уроку 1\n",
        "\n",
        "1. Добиться вразумительного результата от модели, собранной на занятии (3 угаданные картинки из 4 предложенных на семинаре). Варианты изменений:\n",
        " * изменение слоёв и их количества;\n",
        " * изменение метода оптимизации; \n",
        " * изменение процесса обучения; \n",
        " * для продвинутых: преобразование данных.\n"
      ]
    },
    {
      "cell_type": "code",
      "metadata": {
        "id": "0bggAUvKaWj1"
      },
      "source": [
        "import torch\n",
        "import torchvision\n",
        "from torch import nn\n",
        "import torch.nn.functional as F\n",
        "from torch import optim\n",
        "from torch.autograd import Variable\n",
        "import torchvision.transforms as transforms\n",
        "\n",
        "import os\n",
        "import numpy as np\n",
        "import matplotlib.pyplot as plt"
      ],
      "execution_count": 1,
      "outputs": []
    },
    {
      "cell_type": "code",
      "metadata": {
        "id": "G5-2uzpCeXbB",
        "outputId": "76214d43-db8b-4113-f54d-045853a4b503",
        "colab": {
          "base_uri": "https://localhost:8080/",
          "height": 34
        }
      },
      "source": [
        "device = torch.device('cuda:0' if torch.cuda.is_available() else 'cpu')\n",
        "print(device)"
      ],
      "execution_count": 2,
      "outputs": [
        {
          "output_type": "stream",
          "text": [
            "cuda:0\n"
          ],
          "name": "stdout"
        }
      ]
    },
    {
      "cell_type": "code",
      "metadata": {
        "id": "UaTjhT3XblYC"
      },
      "source": [
        "PATH = 'data'\n",
        "\n",
        "download = not os.path.isdir(PATH)\n",
        "train_dataset = torchvision.datasets.CIFAR10(root=PATH,\n",
        "                                             train=True,  \n",
        "                                             transform=transforms.ToTensor(), \n",
        "                                             download=download)"
      ],
      "execution_count": 3,
      "outputs": []
    },
    {
      "cell_type": "code",
      "metadata": {
        "id": "swVr79_ocqOS",
        "outputId": "2fde3fbc-f8f4-49d0-e8e9-28fb4ec02124",
        "colab": {
          "base_uri": "https://localhost:8080/",
          "height": 50
        }
      },
      "source": [
        "image, label = train_dataset[0]\n",
        "print(image.size())\n",
        "print(label)"
      ],
      "execution_count": 4,
      "outputs": [
        {
          "output_type": "stream",
          "text": [
            "torch.Size([3, 32, 32])\n",
            "6\n"
          ],
          "name": "stdout"
        }
      ]
    },
    {
      "cell_type": "code",
      "metadata": {
        "id": "x7wr9V0wc0i4",
        "outputId": "51406df5-8e77-46c8-c16a-e1ec50852f7b",
        "colab": {
          "base_uri": "https://localhost:8080/",
          "height": 265
        }
      },
      "source": [
        "fig = plt.figure(figsize=(4, 4))\n",
        "plt.imshow(image.permute(1, 2, 0).numpy())\n",
        "plt.axis('off')"
      ],
      "execution_count": 5,
      "outputs": [
        {
          "output_type": "execute_result",
          "data": {
            "text/plain": [
              "(-0.5, 31.5, 31.5, -0.5)"
            ]
          },
          "metadata": {
            "tags": []
          },
          "execution_count": 5
        },
        {
          "output_type": "display_data",
          "data": {
            "image/png": "[encoded data removed]",
            "text/plain": [
              "<Figure size 288x288 with 1 Axes>"
            ]
          },
          "metadata": {
            "tags": [],
            "needs_background": "light"
          }
        }
      ]
    },
    {
      "cell_type": "code",
      "metadata": {
        "id": "UaKJ5t2ye8Et"
      },
      "source": [
        "train_loader = torch.utils.data.DataLoader(dataset=train_dataset,\n",
        "                                           batch_size=64, \n",
        "                                           shuffle=True)"
      ],
      "execution_count": 6,
      "outputs": []
    },
    {
      "cell_type": "code",
      "metadata": {
        "id": "OBKggbpIe9X9",
        "outputId": "8e5a6413-2fb6-457a-fd7b-6930f137eff3",
        "colab": {
          "base_uri": "https://localhost:8080/",
          "height": 34
        }
      },
      "source": [
        "test_dataset = torchvision.datasets.CIFAR10(root=PATH, \n",
        "                                            train=False,\n",
        "                                            transform=transforms.ToTensor(),\n",
        "                                            download=True)\n",
        "test_loader = torch.utils.data.DataLoader(test_dataset, batch_size=4,\n",
        "                                         shuffle=False)"
      ],
      "execution_count": 7,
      "outputs": [
        {
          "output_type": "stream",
          "text": [
            "Files already downloaded and verified\n"
          ],
          "name": "stdout"
        }
      ]
    },
    {
      "cell_type": "code",
      "metadata": {
        "id": "uhP0Y3gNfdky"
      },
      "source": [
        "classes = ('plane', 'car', 'bird', 'cat',\n",
        "           'deer', 'dog', 'frog', 'horse', 'ship', 'truck')"
      ],
      "execution_count": 8,
      "outputs": []
    },
    {
      "cell_type": "markdown",
      "metadata": {
        "id": "Pd8hdF6xflcD"
      },
      "source": [
        "#### Определяем модель\n",
        "Постоим маленький аналог VGG архитектуры"
      ]
    },
    {
      "cell_type": "code",
      "metadata": {
        "id": "mm1FvysBlony"
      },
      "source": [
        "class Net(nn.Module):\n",
        "    def __init__(self):\n",
        "        super().__init__()\n",
        "        self.conv1 = nn.Conv2d(3, 16, 3)\n",
        "        self.conv2 = nn.Conv2d(16, 32, 3)\n",
        "        self.conv3 = nn.Conv2d(32, 32, 3)\n",
        "        self.conv4 = nn.Conv2d(32, 64, 3)\n",
        "        self.conv5 = nn.Conv2d(64, 64, 3)\n",
        "        self.conv6 = nn.Conv2d(64, 128, 3)\n",
        "        self.pool = nn.MaxPool2d(2, 2)\n",
        "        self.fc1 = nn.Linear(128 * 4 * 4, 128)\n",
        "        self.fc2 = nn.Linear(128, 10)\n",
        "        self.pad = (1, 1, 1, 1)  # Для F.pad, чтобы сверка оставляла нулевые края\n",
        "\n",
        "    def forward(self, x):\n",
        "        x = F.relu(F.pad(self.conv1(x), self.pad))\n",
        "        x = self.pool(F.relu(F.pad(self.conv2(x), self.pad)))\n",
        "\n",
        "        x = F.relu(F.pad(self.conv3(x), self.pad))\n",
        "        x = self.pool(F.relu(F.pad(self.conv4(x), self.pad)))\n",
        "        \n",
        "        x = F.relu(F.pad(self.conv5(x), self.pad))\n",
        "        x = self.pool(F.relu(F.pad(self.conv6(x), self.pad)))\n",
        "        \n",
        "        x = x.view(-1, 128 * 4 * 4)\n",
        "        x = F.relu(self.fc1(x))\n",
        "        x = self.fc2(x)\n",
        "        return x\n",
        "\n",
        "\n",
        "net = Net().to(device)"
      ],
      "execution_count": 9,
      "outputs": []
    },
    {
      "cell_type": "code",
      "metadata": {
        "id": "khR9zzdxaWlB"
      },
      "source": [
        "criterion = nn.CrossEntropyLoss()\n",
        "optimizer = optim.Adam(net.parameters())  # SGD(net.parameters(), lr=0.001, momentum=0.9)"
      ],
      "execution_count": 10,
      "outputs": []
    },
    {
      "cell_type": "markdown",
      "metadata": {
        "id": "BXBWKMxm-zFY"
      },
      "source": [
        "#### Процесс обучения"
      ]
    },
    {
      "cell_type": "code",
      "metadata": {
        "id": "rb3cbeXtaWlD",
        "outputId": "8b7fff1e-5507-4086-e98b-be28bcdc2ef7",
        "colab": {
          "base_uri": "https://localhost:8080/",
          "height": 403
        }
      },
      "source": [
        "%%time\n",
        "for epoch in range(20):  \n",
        "    running_loss = 0.0\n",
        "    for i, data in enumerate(train_loader, 0):\n",
        "        inputs, labels = data[0], data[1]\n",
        "        inputs, labels = inputs.to(device), labels.to(device)\n",
        "\n",
        "        # обнуляем градиент\n",
        "        optimizer.zero_grad()\n",
        "\n",
        "        outputs = net(inputs)\n",
        "        loss = criterion(outputs, labels)\n",
        "        loss.backward()\n",
        "        optimizer.step()\n",
        "\n",
        "        # выводим статистику о процессе обучения\n",
        "        running_loss += loss.item()\n",
        "    print('[epoch %d] loss: %.3f' % (epoch + 1, running_loss / 2000))\n",
        "    running_loss = 0.0\n",
        "\n",
        "print('Training is finished!')"
      ],
      "execution_count": 11,
      "outputs": [
        {
          "output_type": "stream",
          "text": [
            "[epoch 1] loss: 0.689\n",
            "[epoch 2] loss: 0.490\n",
            "[epoch 3] loss: 0.409\n",
            "[epoch 4] loss: 0.359\n",
            "[epoch 5] loss: 0.320\n",
            "[epoch 6] loss: 0.290\n",
            "[epoch 7] loss: 0.264\n",
            "[epoch 8] loss: 0.243\n",
            "[epoch 9] loss: 0.221\n",
            "[epoch 10] loss: 0.207\n",
            "[epoch 11] loss: 0.186\n",
            "[epoch 12] loss: 0.171\n",
            "[epoch 13] loss: 0.156\n",
            "[epoch 14] loss: 0.144\n",
            "[epoch 15] loss: 0.132\n",
            "[epoch 16] loss: 0.120\n",
            "[epoch 17] loss: 0.108\n",
            "[epoch 18] loss: 0.100\n",
            "[epoch 19] loss: 0.092\n",
            "[epoch 20] loss: 0.083\n",
            "Training is finished!\n",
            "CPU times: user 2min 38s, sys: 3.08 s, total: 2min 41s\n",
            "Wall time: 2min 42s\n"
          ],
          "name": "stdout"
        }
      ]
    },
    {
      "cell_type": "markdown",
      "metadata": {
        "id": "BzWQlTeoaWlL"
      },
      "source": [
        "#### Проверка модели на 4-х изображениях"
      ]
    },
    {
      "cell_type": "code",
      "metadata": {
        "id": "pAP7Fa7vaWlM"
      },
      "source": [
        "data_iter = iter(test_loader)\n",
        "images, labels = data_iter.next()"
      ],
      "execution_count": 12,
      "outputs": []
    },
    {
      "cell_type": "code",
      "metadata": {
        "id": "F1zDWC-GaWlP",
        "outputId": "378234e7-c163-4434-fb48-abd4cdc5b6ab",
        "colab": {
          "base_uri": "https://localhost:8080/",
          "height": 135
        }
      },
      "source": [
        "net = net.to('cpu')\n",
        "outputs = net(images)\n",
        "imgs = torchvision.utils.make_grid(images)\n",
        "plt.imshow(imgs.permute(1, 2, 0).numpy())\n",
        "plt.axis('off')\n",
        "print('GroundTruth: ', ' '.join('%5s' % classes[labels[j]] for j in range(4)))"
      ],
      "execution_count": 13,
      "outputs": [
        {
          "output_type": "stream",
          "text": [
            "GroundTruth:    cat  ship  ship plane\n"
          ],
          "name": "stdout"
        },
        {
          "output_type": "display_data",
          "data": {
            "image/png": "[encoded data removed]",
            "text/plain": [
              "<Figure size 432x288 with 1 Axes>"
            ]
          },
          "metadata": {
            "tags": [],
            "needs_background": "light"
          }
        }
      ]
    },
    {
      "cell_type": "code",
      "metadata": {
        "id": "N-ws15JHaWlS",
        "outputId": "de8eacb8-764d-4f4f-9df4-91da8b8955e3",
        "colab": {
          "base_uri": "https://localhost:8080/",
          "height": 34
        }
      },
      "source": [
        "_, predicted = torch.max(outputs, 1)\n",
        "\n",
        "print('Predicted: ', ' '.join('%5s' % classes[predicted[j]]\n",
        "                              for j in range(4)))"
      ],
      "execution_count": 14,
      "outputs": [
        {
          "output_type": "stream",
          "text": [
            "Predicted:    cat  ship  ship plane\n"
          ],
          "name": "stdout"
        }
      ]
    },
    {
      "cell_type": "markdown",
      "metadata": {
        "id": "QUhAE-NxD4xl"
      },
      "source": [
        "2. Взять часть, где мы делали один шаг обучения, и обернуть его в цикл по схеме, как обучали модель в конце занятия."
      ]
    },
    {
      "cell_type": "code",
      "metadata": {
        "id": "DcW7hv7F2jTu"
      },
      "source": [
        "class Net(nn.Module):\n",
        "    def __init__(self):\n",
        "        super().__init__()\n",
        "        self.linear = nn.Linear(2, 2)\n",
        "\n",
        "    def forward(self, x):\n",
        "        x = self.linear(x)\n",
        "        return x\n",
        "\n",
        "\n",
        "net = Net()"
      ],
      "execution_count": 15,
      "outputs": []
    },
    {
      "cell_type": "code",
      "metadata": {
        "id": "qOe9B3ouEYkZ"
      },
      "source": [
        "criterion = nn.MSELoss()\n",
        "optimizer = torch.optim.SGD(net.parameters(), lr=0.001)"
      ],
      "execution_count": 16,
      "outputs": []
    },
    {
      "cell_type": "code",
      "metadata": {
        "id": "5lq-78ekEw6U"
      },
      "source": [
        "inputs = Variable(torch.randn(2), requires_grad = True)\n",
        "labels = Variable(torch.randn(2), requires_grad = False)"
      ],
      "execution_count": 17,
      "outputs": []
    },
    {
      "cell_type": "code",
      "metadata": {
        "id": "KGg35KMhEyh-",
        "outputId": "24dc5e8b-92a3-4335-9727-6c959bae22bd",
        "colab": {
          "base_uri": "https://localhost:8080/",
          "height": 185
        }
      },
      "source": [
        "EPOCHS = 10\n",
        "\n",
        "for epoch in range(EPOCHS):\n",
        "    optimizer.zero_grad()\n",
        "\n",
        "    outputs = net(inputs)\n",
        "    loss = criterion(outputs, labels)\n",
        "    loss.backward()\n",
        "    optimizer.step()\n",
        "\n",
        "    print('[epoch %d] loss: %.5f' % (epoch + 1, loss))"
      ],
      "execution_count": 18,
      "outputs": [
        {
          "output_type": "stream",
          "text": [
            "[epoch 1] loss: 6.59797\n",
            "[epoch 2] loss: 6.57478\n",
            "[epoch 3] loss: 6.55168\n",
            "[epoch 4] loss: 6.52866\n",
            "[epoch 5] loss: 6.50572\n",
            "[epoch 6] loss: 6.48286\n",
            "[epoch 7] loss: 6.46008\n",
            "[epoch 8] loss: 6.43738\n",
            "[epoch 9] loss: 6.41476\n",
            "[epoch 10] loss: 6.39222\n"
          ],
          "name": "stdout"
        }
      ]
    },
    {
      "cell_type": "markdown",
      "metadata": {
        "id": "FrQYLypuHU0k"
      },
      "source": [
        "3. Переписать эту программу на PyTorch:"
      ]
    },
    {
      "cell_type": "code",
      "metadata": {
        "id": "KoLJq_uGRDFs"
      },
      "source": [
        "# model = tf.keras.models.Sequential([\n",
        "#     tf.keras.layers.Flatten(input_shape=(28, 28)),\n",
        "#     tf.keras.layers.Dense(128, activation='relu'),\n",
        "#     tf.keras.layers.Dropout(0.2),\n",
        "#     tf.keras.layers.Dense(10, activation='softmax')\n",
        "# ])\n",
        "\n",
        "# model.compile(optimizer='Adam',\n",
        "#               loss='sparse_categorical_crossentropy')"
      ],
      "execution_count": 19,
      "outputs": []
    },
    {
      "cell_type": "markdown",
      "metadata": {
        "id": "NdWmCYCwUDYF"
      },
      "source": [
        "Не забудьте про реализацию функции forward! "
      ]
    },
    {
      "cell_type": "code",
      "metadata": {
        "id": "hch4CxAXIbCO"
      },
      "source": [
        "class Net(nn.Module):\n",
        "    def __init__(self):\n",
        "        super().__init__()\n",
        "        self.lin1 = nn.Linear(28 * 28, 128)\n",
        "        self.dropout = nn.Dropout(.2)\n",
        "        self.lin2 = nn.Linear(128, 10)\n",
        "\n",
        "    def forward(self, x):\n",
        "        x = x.view(-1, 28 * 28)\n",
        "        x = F.relu(self.lin1(x))\n",
        "        x = self.dropout(x)\n",
        "        x = F.softmax(self.lin2(x), dim=1)\n",
        "        return x\n",
        "\n",
        "\n",
        "net = Net()"
      ],
      "execution_count": 45,
      "outputs": []
    },
    {
      "cell_type": "code",
      "metadata": {
        "id": "dh-xXpBcMsTm"
      },
      "source": [
        "criterion = nn.CrossEntropyLoss()\n",
        "optimizer = torch.optim.Adam(net.parameters())"
      ],
      "execution_count": 46,
      "outputs": []
    },
    {
      "cell_type": "code",
      "metadata": {
        "id": "RFbimxF5OUwQ"
      },
      "source": [
        "inputs = Variable(torch.randn(100, 28, 28), requires_grad = True)\n",
        "labels = Variable(torch.randint(0, 10, (100,)), requires_grad = False)\n",
        "#labels = F.one_hot(labels)"
      ],
      "execution_count": 47,
      "outputs": []
    },
    {
      "cell_type": "code",
      "metadata": {
        "id": "X8DJaq9tUXoY",
        "outputId": "11956c7c-e2d5-47fe-f117-07388ee5f8b8",
        "colab": {
          "base_uri": "https://localhost:8080/",
          "height": 34
        }
      },
      "source": [
        "inputs.shape, labels.shape"
      ],
      "execution_count": 48,
      "outputs": [
        {
          "output_type": "execute_result",
          "data": {
            "text/plain": [
              "(torch.Size([100, 28, 28]), torch.Size([100]))"
            ]
          },
          "metadata": {
            "tags": []
          },
          "execution_count": 48
        }
      ]
    },
    {
      "cell_type": "code",
      "metadata": {
        "id": "HF37cNjfXI6l",
        "outputId": "41128a19-9246-4280-a880-0aecf615fa4e",
        "colab": {
          "base_uri": "https://localhost:8080/",
          "height": 34
        }
      },
      "source": [
        "labels[0]"
      ],
      "execution_count": 49,
      "outputs": [
        {
          "output_type": "execute_result",
          "data": {
            "text/plain": [
              "tensor(1)"
            ]
          },
          "metadata": {
            "tags": []
          },
          "execution_count": 49
        }
      ]
    },
    {
      "cell_type": "code",
      "metadata": {
        "id": "4CbthhSdM3fE",
        "outputId": "69d3157e-dbde-477d-f359-f748c3089b75",
        "colab": {
          "base_uri": "https://localhost:8080/",
          "height": 185
        }
      },
      "source": [
        "for epoch in range(10):\n",
        "    optimizer.zero_grad()\n",
        "\n",
        "    outputs = net(inputs)\n",
        "    loss = criterion(outputs, labels)\n",
        "    loss.backward()\n",
        "    optimizer.step()\n",
        "\n",
        "    print('[epoch %d] loss: %.3f' % (epoch + 1, loss))"
      ],
      "execution_count": 50,
      "outputs": [
        {
          "output_type": "stream",
          "text": [
            "[epoch 1] loss: 2.304\n",
            "[epoch 2] loss: 2.279\n",
            "[epoch 3] loss: 2.247\n",
            "[epoch 4] loss: 2.220\n",
            "[epoch 5] loss: 2.185\n",
            "[epoch 6] loss: 2.143\n",
            "[epoch 7] loss: 2.103\n",
            "[epoch 8] loss: 2.054\n",
            "[epoch 9] loss: 2.023\n",
            "[epoch 10] loss: 1.972\n"
          ],
          "name": "stdout"
        }
      ]
    },
    {
      "cell_type": "code",
      "metadata": {
        "id": "3ec9-qupcLAG"
      },
      "source": [
        ""
      ],
      "execution_count": null,
      "outputs": []
    }
  ]
}